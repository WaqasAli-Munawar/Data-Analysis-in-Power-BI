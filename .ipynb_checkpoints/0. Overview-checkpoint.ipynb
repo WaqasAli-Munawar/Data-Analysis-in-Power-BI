{
 "cells": [
  {
   "cell_type": "markdown",
   "id": "e3b4f760",
   "metadata": {},
   "source": [
    "### Data Analysis in Power BI\n",
    "\n",
    "Learn how to use Microsoft Power BI to perform data analytical functions. Identify outliers in our data, group data together, and bin data for analysis. Perform time series analysis, and use advanced analytic features of Power BI.\n",
    "\n",
    "We will Learn how to;\n",
    "* Perform data analysis using Microsoft Power BI\n",
    "* Group and bin data\n",
    "* Perform time series analysis\n",
    "* Apply artificial intelligence insights to our data"
   ]
  },
  {
   "cell_type": "code",
   "execution_count": null,
   "id": "583e1fe6",
   "metadata": {},
   "outputs": [],
   "source": []
  }
 ],
 "metadata": {
  "kernelspec": {
   "display_name": "Python 3 (ipykernel)",
   "language": "python",
   "name": "python3"
  },
  "language_info": {
   "codemirror_mode": {
    "name": "ipython",
    "version": 3
   },
   "file_extension": ".py",
   "mimetype": "text/x-python",
   "name": "python",
   "nbconvert_exporter": "python",
   "pygments_lexer": "ipython3",
   "version": "3.9.7"
  }
 },
 "nbformat": 4,
 "nbformat_minor": 5
}
